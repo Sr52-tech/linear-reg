{
 "cells": [
  {
   "cell_type": "code",
   "execution_count": 22,
   "id": "0cd6c976",
   "metadata": {},
   "outputs": [],
   "source": [
    "import pandas as pd\n",
    "import numpy as np\n",
    "from sklearn.model_selection import train_test_split"
   ]
  },
  {
   "cell_type": "code",
   "execution_count": 23,
   "id": "62b056e3",
   "metadata": {},
   "outputs": [
    {
     "data": {
      "text/html": [
       "<div>\n",
       "<style scoped>\n",
       "    .dataframe tbody tr th:only-of-type {\n",
       "        vertical-align: middle;\n",
       "    }\n",
       "\n",
       "    .dataframe tbody tr th {\n",
       "        vertical-align: top;\n",
       "    }\n",
       "\n",
       "    .dataframe thead th {\n",
       "        text-align: right;\n",
       "    }\n",
       "</style>\n",
       "<table border=\"1\" class=\"dataframe\">\n",
       "  <thead>\n",
       "    <tr style=\"text-align: right;\">\n",
       "      <th></th>\n",
       "      <th>age</th>\n",
       "      <th>sex</th>\n",
       "      <th>bmi</th>\n",
       "      <th>children</th>\n",
       "      <th>smoker</th>\n",
       "      <th>region</th>\n",
       "      <th>charges</th>\n",
       "    </tr>\n",
       "  </thead>\n",
       "  <tbody>\n",
       "    <tr>\n",
       "      <th>0</th>\n",
       "      <td>19</td>\n",
       "      <td>female</td>\n",
       "      <td>27.900</td>\n",
       "      <td>0</td>\n",
       "      <td>yes</td>\n",
       "      <td>southwest</td>\n",
       "      <td>16884.92400</td>\n",
       "    </tr>\n",
       "    <tr>\n",
       "      <th>1</th>\n",
       "      <td>18</td>\n",
       "      <td>male</td>\n",
       "      <td>33.770</td>\n",
       "      <td>1</td>\n",
       "      <td>no</td>\n",
       "      <td>southeast</td>\n",
       "      <td>1725.55230</td>\n",
       "    </tr>\n",
       "    <tr>\n",
       "      <th>2</th>\n",
       "      <td>28</td>\n",
       "      <td>male</td>\n",
       "      <td>33.000</td>\n",
       "      <td>3</td>\n",
       "      <td>no</td>\n",
       "      <td>southeast</td>\n",
       "      <td>4449.46200</td>\n",
       "    </tr>\n",
       "    <tr>\n",
       "      <th>3</th>\n",
       "      <td>33</td>\n",
       "      <td>male</td>\n",
       "      <td>22.705</td>\n",
       "      <td>0</td>\n",
       "      <td>no</td>\n",
       "      <td>northwest</td>\n",
       "      <td>21984.47061</td>\n",
       "    </tr>\n",
       "    <tr>\n",
       "      <th>4</th>\n",
       "      <td>32</td>\n",
       "      <td>male</td>\n",
       "      <td>28.880</td>\n",
       "      <td>0</td>\n",
       "      <td>no</td>\n",
       "      <td>northwest</td>\n",
       "      <td>3866.85520</td>\n",
       "    </tr>\n",
       "  </tbody>\n",
       "</table>\n",
       "</div>"
      ],
      "text/plain": [
       "   age     sex     bmi  children smoker     region      charges\n",
       "0   19  female  27.900         0    yes  southwest  16884.92400\n",
       "1   18    male  33.770         1     no  southeast   1725.55230\n",
       "2   28    male  33.000         3     no  southeast   4449.46200\n",
       "3   33    male  22.705         0     no  northwest  21984.47061\n",
       "4   32    male  28.880         0     no  northwest   3866.85520"
      ]
     },
     "execution_count": 23,
     "metadata": {},
     "output_type": "execute_result"
    }
   ],
   "source": [
    "data = pd.read_csv(\"insurance.csv\")\n",
    "data.head()"
   ]
  },
  {
   "cell_type": "code",
   "execution_count": 24,
   "id": "df890c60",
   "metadata": {},
   "outputs": [],
   "source": [
    "x = data.iloc[:, :-1]  # Features\n",
    "y = data.iloc[:, -1]  # Output"
   ]
  },
  {
   "cell_type": "code",
   "execution_count": 27,
   "id": "1c486e57",
   "metadata": {},
   "outputs": [
    {
     "data": {
      "text/html": [
       "<div>\n",
       "<style scoped>\n",
       "    .dataframe tbody tr th:only-of-type {\n",
       "        vertical-align: middle;\n",
       "    }\n",
       "\n",
       "    .dataframe tbody tr th {\n",
       "        vertical-align: top;\n",
       "    }\n",
       "\n",
       "    .dataframe thead th {\n",
       "        text-align: right;\n",
       "    }\n",
       "</style>\n",
       "<table border=\"1\" class=\"dataframe\">\n",
       "  <thead>\n",
       "    <tr style=\"text-align: right;\">\n",
       "      <th></th>\n",
       "      <th>age</th>\n",
       "      <th>sex</th>\n",
       "      <th>bmi</th>\n",
       "      <th>children</th>\n",
       "      <th>smoker</th>\n",
       "      <th>region</th>\n",
       "    </tr>\n",
       "  </thead>\n",
       "  <tbody>\n",
       "    <tr>\n",
       "      <th>0</th>\n",
       "      <td>19</td>\n",
       "      <td>female</td>\n",
       "      <td>27.900</td>\n",
       "      <td>0</td>\n",
       "      <td>yes</td>\n",
       "      <td>southwest</td>\n",
       "    </tr>\n",
       "    <tr>\n",
       "      <th>1</th>\n",
       "      <td>18</td>\n",
       "      <td>male</td>\n",
       "      <td>33.770</td>\n",
       "      <td>1</td>\n",
       "      <td>no</td>\n",
       "      <td>southeast</td>\n",
       "    </tr>\n",
       "    <tr>\n",
       "      <th>2</th>\n",
       "      <td>28</td>\n",
       "      <td>male</td>\n",
       "      <td>33.000</td>\n",
       "      <td>3</td>\n",
       "      <td>no</td>\n",
       "      <td>southeast</td>\n",
       "    </tr>\n",
       "    <tr>\n",
       "      <th>3</th>\n",
       "      <td>33</td>\n",
       "      <td>male</td>\n",
       "      <td>22.705</td>\n",
       "      <td>0</td>\n",
       "      <td>no</td>\n",
       "      <td>northwest</td>\n",
       "    </tr>\n",
       "    <tr>\n",
       "      <th>4</th>\n",
       "      <td>32</td>\n",
       "      <td>male</td>\n",
       "      <td>28.880</td>\n",
       "      <td>0</td>\n",
       "      <td>no</td>\n",
       "      <td>northwest</td>\n",
       "    </tr>\n",
       "  </tbody>\n",
       "</table>\n",
       "</div>"
      ],
      "text/plain": [
       "   age     sex     bmi  children smoker     region\n",
       "0   19  female  27.900         0    yes  southwest\n",
       "1   18    male  33.770         1     no  southeast\n",
       "2   28    male  33.000         3     no  southeast\n",
       "3   33    male  22.705         0     no  northwest\n",
       "4   32    male  28.880         0     no  northwest"
      ]
     },
     "execution_count": 27,
     "metadata": {},
     "output_type": "execute_result"
    }
   ],
   "source": [
    "x.head()"
   ]
  },
  {
   "cell_type": "code",
   "execution_count": 28,
   "id": "b65d3515",
   "metadata": {},
   "outputs": [
    {
     "data": {
      "text/plain": [
       "0    16884.92400\n",
       "1     1725.55230\n",
       "2     4449.46200\n",
       "3    21984.47061\n",
       "4     3866.85520\n",
       "Name: charges, dtype: float64"
      ]
     },
     "execution_count": 28,
     "metadata": {},
     "output_type": "execute_result"
    }
   ],
   "source": [
    "y.head()"
   ]
  },
  {
   "cell_type": "code",
   "execution_count": 29,
   "id": "207c788f",
   "metadata": {},
   "outputs": [],
   "source": [
    "data['sex'] = data['sex'].map({'female': 0, 'male': 1})\n",
    "data['smoker'] = data['smoker'].map({'no': 0, 'yes': 1})\n",
    "data['region'] = data['region'].map({'southeast': 0, 'southwest': 1, 'northeast': 2, 'northwest': 3})"
   ]
  },
  {
   "cell_type": "code",
   "execution_count": 30,
   "id": "73022c0c",
   "metadata": {},
   "outputs": [],
   "source": [
    "x = data.drop('charges', axis=1)  # Features\n",
    "y = data['charges']  # Output"
   ]
  },
  {
   "cell_type": "code",
   "execution_count": 31,
   "id": "c4b22df2",
   "metadata": {},
   "outputs": [],
   "source": [
    "x_train, x_test, y_train, y_test = train_test_split(x, y, test_size=0.3, random_state=0) #30% for testing"
   ]
  },
  {
   "cell_type": "code",
   "execution_count": 32,
   "id": "dbe42353",
   "metadata": {},
   "outputs": [
    {
     "name": "stdout",
     "output_type": "stream",
     "text": [
      "shape of original dataset : (1338, 7)\n",
      "shape of input - training set (936, 6)\n",
      "shape of output - training set (936,)\n",
      "shape of input - testing set (402, 6)\n",
      "shape of output - testing set (402,)\n"
     ]
    }
   ],
   "source": [
    "print(\"shape of original dataset :\", data.shape)\n",
    "print(\"shape of input - training set\", x_train.shape)\n",
    "print(\"shape of output - training set\", y_train.shape)\n",
    "print(\"shape of input - testing set\", x_test.shape)\n",
    "print(\"shape of output - testing set\", y_test.shape)"
   ]
  },
  {
   "cell_type": "code",
   "execution_count": 33,
   "id": "587bb593",
   "metadata": {},
   "outputs": [],
   "source": [
    "class MultipleLinearRegression:\n",
    "    \n",
    "    def __init__(self):\n",
    "        self.coefficients = []\n",
    "\n",
    "    def fit(self, x, y):\n",
    "        x = np.concatenate((np.ones((x.shape[0], 1)), x), axis=1)\n",
    "        self.coefficients = np.linalg.inv(x.transpose().dot(x)).dot(x.transpose()).dot(y)\n",
    "\n",
    "    def predict(self, x):\n",
    "        x = np.concatenate((np.ones((x.shape[0], 1)), x), axis=1)\n",
    "        \n",
    "        return x.dot(self.coefficients)\n",
    "    \n",
    "    def score(self, x, y):\n",
    "        # Calculate R-squared\n",
    "        y_pred = self.predict(x)\n",
    "        ss_res = np.sum((y - y_pred) ** 2)\n",
    "        ss_tot = np.sum((y - np.mean(y)) ** 2)\n",
    "        return 1 - (ss_res / ss_tot)\n",
    "\n",
    "    def summary(self):\n",
    "        # summary of the model\n",
    "        print(f'Intercept: {self.coefficients[0]}')\n",
    "        print(f'Coefficients: {self.coefficients[1:]}')\n",
    "        \n",
    "        #the score\n",
    "        score = model.score(x_test.values, y_test.values)\n",
    "        print(f'Testing Score: {score}')\n",
    "        \n",
    "        Tscore = model.score(x_train.values, y_train.values)\n",
    "        print(f'Training Score: {Tscore}')\n",
    "        \n",
    "        mse = np.mean((predictions - y_test.values) ** 2)\n",
    "        print(f'Mean Squared Error: {mse}')\n",
    "        "
   ]
  },
  {
   "cell_type": "code",
   "execution_count": 34,
   "id": "7b1dcce4",
   "metadata": {},
   "outputs": [],
   "source": [
    "# train the model\n",
    "model = MultipleLinearRegression()\n",
    "model.fit(x_train, y_train)"
   ]
  },
  {
   "cell_type": "code",
   "execution_count": 35,
   "id": "28c7936d",
   "metadata": {},
   "outputs": [],
   "source": [
    "predictions = model.predict(x_test)"
   ]
  },
  {
   "cell_type": "code",
   "execution_count": 36,
   "id": "e9e655b5",
   "metadata": {},
   "outputs": [
    {
     "name": "stdout",
     "output_type": "stream",
     "text": [
      "Intercept: -12659.093548637778\n",
      "Coefficients: [  256.80772353   -36.84947221   332.0146003    468.33515753\n",
      " 23449.13776336   207.25521637]\n",
      "Testing Score: 0.7907514220754802\n",
      "Training Score: 0.730400823808963\n",
      "Mean Squared Error: 33368758.796567157\n"
     ]
    }
   ],
   "source": [
    "model.summary()"
   ]
  },
  {
   "cell_type": "code",
   "execution_count": 15,
   "id": "6d70689e",
   "metadata": {
    "scrolled": false
   },
   "outputs": [
    {
     "name": "stdout",
     "output_type": "stream",
     "text": [
      "[ 1.13604899e+04  9.63047343e+03  3.81065737e+04  1.63338141e+04\n",
      "  7.05272954e+03  3.54684209e+03  1.11492011e+03  1.45452227e+04\n",
      "  9.15653214e+03  7.60590109e+03  4.20016236e+03  1.04451514e+04\n",
      "  8.98646549e+03  3.88683626e+03  2.77711850e+04  1.09358292e+04\n",
      "  1.14088811e+04  5.65105775e+03  8.33593364e+03  2.64917277e+04\n",
      "  3.36411266e+04  1.45093087e+04  1.13603693e+04  3.20999735e+04\n",
      "  4.16595995e+03  8.80051482e+03  6.86565582e+02  9.97470268e+03\n",
      "  3.84800169e+03  1.05436257e+04  9.16548540e+03  4.00322662e+04\n",
      "  1.58507371e+04  1.40198816e+04  2.41808796e+04  4.73281638e+03\n",
      "  1.27268799e+04  3.07047328e+04  3.35025676e+04  3.74040233e+03\n",
      "  3.59264482e+03  4.02796889e+03  2.99517120e+04  3.94760782e+04\n",
      "  2.76473213e+04  5.14254175e+03  1.08262644e+04  7.91704638e+03\n",
      "  3.21404415e+03  1.04089920e+04  5.23768356e+03  3.52019211e+03\n",
      "  3.30519647e+04  3.80078950e+04  1.61504863e+04  6.67412103e+03\n",
      "  5.74101493e+03  9.53471440e+03  9.16147748e+03  1.18772163e+04\n",
      "  1.91947797e+03  3.89529955e+04  1.51105293e+04  1.20124403e+04\n",
      "  1.37466989e+04  1.42282674e+04  2.56759831e+04  3.21589874e+04\n",
      "  9.38338561e+02  1.03224230e+04  1.25762445e+04  1.16869203e+04\n",
      "  2.51606030e+04  1.57545311e+04  1.13511064e+04  1.23108825e+04\n",
      "  6.72839306e+03  9.72979521e+03  2.96594087e+04  3.91461862e+04\n",
      "  1.16936897e+04  3.71718509e+04  4.23658136e+03  9.56283584e+03\n",
      "  3.42860029e+04  2.88212970e+04  8.77091669e+03  4.91685700e+03\n",
      "  1.22617045e+04  3.03847971e+04  9.71095184e+03  1.15629735e+04\n",
      "  7.89611333e+03  9.07389065e+03  7.96263628e+03  6.91333969e+03\n",
      "  3.54799980e+04  3.32235010e+04  7.74216037e+03  1.52727331e+04\n",
      "  4.02103001e+03  8.86796962e+03  6.42467484e+03  3.14295355e+04\n",
      "  3.29652236e+04  2.02483410e+03  9.23006738e+03  6.69743601e+03\n",
      "  1.41891044e+04  3.72589923e+04  1.03636481e+04  1.06266446e+04\n",
      "  1.03463596e+04  2.63250675e+04  3.98473453e+04  8.11504355e+03\n",
      "  4.20123030e+02  9.18328674e+03  1.54490447e+04  9.69169927e+03\n",
      "  3.51434975e+04  7.40416142e+03  1.71648356e+04  9.25511108e+03\n",
      "  8.44643817e+03  3.06508183e+03  3.24167342e+04  3.14694525e+04\n",
      "  3.96162959e+04  5.55684299e+03  9.47447184e+03  3.60706421e+03\n",
      "  7.75746319e+03  8.25952865e+03  3.17068124e+04  2.99179622e+04\n",
      "  2.97199589e+04  8.93358663e+03  3.24656828e+04  3.38465489e+03\n",
      "  3.69673261e+03  1.12287910e+04  1.32781734e+04  1.24679630e+04\n",
      "  5.51562934e+03  1.57191659e+04  1.50860705e+04  2.50201849e+03\n",
      "  2.81470049e+01  1.05076114e+04  7.03482361e+03  3.16747784e+04\n",
      "  1.20081681e+04  2.36532961e+03  6.46311240e+03  7.97890579e+03\n",
      "  4.45258542e+03  2.14619997e+03  1.15443143e+04  1.26979157e+04\n",
      "  6.87607717e+03  1.64834788e+04  1.19503928e+04  1.42578209e+04\n",
      "  2.78620364e+03  6.92094441e+03  2.30813630e+04  7.24624702e+03\n",
      "  5.07415453e+03  5.18426686e+03  6.80424555e+03  4.80360790e+03\n",
      "  1.01299425e+04  5.37348591e+03  5.91016859e+03  6.77320214e+03\n",
      "  3.32116271e+03  5.66417802e+03  3.76283619e+04  1.01498787e+03\n",
      "  1.27881673e+04  9.08366466e+03  1.38556794e+04  5.41347696e+03\n",
      "  4.83046767e+03  3.59529138e+04  3.90316060e+03  2.17464447e+03\n",
      "  1.53432277e+04  1.23466925e+04  3.45744560e+04  4.88845442e+03\n",
      "  5.86075302e+03  3.11877620e+04  6.17403585e+03  2.24067425e+03\n",
      "  8.06111902e+03  9.68388708e+03  8.06897572e+03  5.84915471e+03\n",
      "  1.28154407e+04  3.84375437e+04  1.39055457e+04  2.89256730e+04\n",
      "  6.84474019e+03  3.54900372e+04  3.37081560e+03  1.19797565e+04\n",
      "  9.17189066e+03  6.20654396e+03  1.14450001e+04  1.42123190e+04\n",
      "  5.29525804e+03  4.54402696e+03  8.07078451e+03  1.44383921e+03\n",
      "  7.51565317e+03  4.04755010e+03  1.31375339e+04  3.93450541e+03\n",
      "  1.03011846e+04  6.90356340e+03  9.47015435e+03  1.96633257e+03\n",
      "  1.34326929e+04  1.69465304e+04  1.51126769e+04  1.08097776e+04\n",
      "  5.47990430e+03  2.27030588e+03  1.93351606e+03  1.30897335e+04\n",
      "  1.41794761e+04  4.65995426e+03  3.87923406e+03  9.66796930e+03\n",
      "  9.63444224e+03  2.76451241e+04  7.25030524e+03  1.01882433e+04\n",
      "  6.47045813e+03  2.97441405e+04  1.13316903e+04  7.12507517e+03\n",
      "  1.03721799e+04  1.23505421e+04  2.59591581e+03  1.09548042e+04\n",
      "  1.10128524e+03  6.66444877e+03  2.83851854e+04  3.88037265e+04\n",
      "  6.51673212e+03  8.21720981e+03  2.06116173e+03 -2.58779036e+01\n",
      "  1.07248869e+04  4.19818350e+03  5.08248610e+03  2.44910902e+03\n",
      "  7.02190713e+03  3.34696237e+04  3.77192315e+04  1.49462065e+04\n",
      "  8.35414917e+03  1.57301558e+04  3.28644515e+04  9.16903018e+03\n",
      "  3.36573742e+04  3.35785869e+03  3.02227780e+04  8.35274359e+03\n",
      "  1.38742130e+04  4.21420665e+03  3.21535219e+04  7.99470010e+03\n",
      "  1.13235240e+04  9.27335526e+03  4.28592523e+03  1.29537793e+04\n",
      "  1.18783568e+04  8.54838814e+03  1.29679436e+04  2.37657560e+03\n",
      "  1.02467370e+04  5.67977274e+03  1.10928245e+04  3.11056309e+04\n",
      "  9.89803230e+03  7.94198159e+02  5.86320676e+02  3.94185122e+04\n",
      "  9.34973829e+03  7.24228383e+03  1.41578768e+04  1.31037898e+04\n",
      "  2.73291355e+04  7.38600581e+03  7.09436299e+03  1.23706269e+04\n",
      "  2.96149600e+03  3.71249627e+03  2.45272168e+04  2.59412141e+04\n",
      "  1.31968622e+04  2.84418332e+03  4.93026526e+03  9.60306674e+03\n",
      "  1.21120545e+04  2.30185299e+04  3.08023987e+04  1.03431900e+04\n",
      "  2.39917317e+04  2.96680408e+03  1.14180546e+04  7.39373906e+03\n",
      "  7.89997497e+03  9.45443123e+01  7.40363957e+03  3.56433184e+04\n",
      "  5.82292200e+03  5.91317355e+03  3.17327573e+02  1.07337238e+04\n",
      "  6.58480918e+03  9.79572686e+03  3.91234224e+04  2.76488781e+04\n",
      "  1.11791387e+04  3.53690729e+04  1.47165682e+04  6.97090574e+03\n",
      "  1.08399845e+04  7.14063698e+03  3.67287454e+04  5.85140078e+03\n",
      "  1.07382898e+04  1.02655327e+03  2.40339952e+04  2.02035748e+03\n",
      "  3.45666390e+04  1.12346180e+04  1.94301336e+03  3.17730916e+04\n",
      "  6.91665000e+03  5.49202224e+03  3.77941977e+04  2.48390279e+03\n",
      "  9.25022446e+03  2.79421777e+03  1.30646817e+04  1.26738672e+03\n",
      "  1.09599650e+04  6.89499509e+03  3.61018725e+04  7.44486528e+03\n",
      "  3.06417687e+04  2.93616891e+04  6.91713838e+03  1.04302726e+04\n",
      "  2.04679577e+03  2.48352207e+03  3.93501579e+03  1.28959039e+04\n",
      "  3.69157016e+04  1.00180985e+04  6.28269042e+02  1.10709837e+04\n",
      "  5.21519582e+03  1.00941925e+04  5.25444960e+03  7.12536652e+03\n",
      "  4.12761855e+03  2.85239067e+04  3.99675673e+03 -1.13397098e+03\n",
      "  3.30311969e+04  1.27437339e+04  3.60924058e+04  1.01421003e+04\n",
      "  7.84073872e+03  4.60535141e+01  2.71894961e+03  1.18168795e+04\n",
      "  5.96551334e+03  2.97586195e+03  1.17971631e+04  8.00826944e+03\n",
      "  7.22842933e+03  5.11537660e+03  3.20550030e+03  3.21515039e+04\n",
      "  3.69590115e+03  8.88812161e+03  4.63644277e+03  1.27301798e+04\n",
      "  1.50403229e+04  7.48800528e+03  2.67595280e+04  1.41380007e+04\n",
      "  1.72097782e+04  1.17706055e+04]\n"
     ]
    }
   ],
   "source": [
    "predictions = model.predict(x_test.values)\n",
    "print(predictions)"
   ]
  },
  {
   "cell_type": "code",
   "execution_count": null,
   "id": "28cf6aad",
   "metadata": {},
   "outputs": [],
   "source": []
  }
 ],
 "metadata": {
  "kernelspec": {
   "display_name": "Python 3 (ipykernel)",
   "language": "python",
   "name": "python3"
  },
  "language_info": {
   "codemirror_mode": {
    "name": "ipython",
    "version": 3
   },
   "file_extension": ".py",
   "mimetype": "text/x-python",
   "name": "python",
   "nbconvert_exporter": "python",
   "pygments_lexer": "ipython3",
   "version": "3.9.13"
  }
 },
 "nbformat": 4,
 "nbformat_minor": 5
}
